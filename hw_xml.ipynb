{
 "cells": [
  {
   "cell_type": "code",
   "execution_count": 1,
   "metadata": {},
   "outputs": [],
   "source": [
    "#!pip install lxml"
   ]
  },
  {
   "cell_type": "code",
   "execution_count": 2,
   "metadata": {},
   "outputs": [],
   "source": [
    "# импортируем нужные библиотеки\n",
    "from lxml import html\n",
    "import requests\n",
    "from pprint import pprint\n",
    "import csv\n",
    "import pandas as pd"
   ]
  },
  {
   "cell_type": "code",
   "execution_count": 3,
   "metadata": {},
   "outputs": [],
   "source": [
    "url='https://tt.sport-liga.pro/'\n",
    "\n",
    "# задаем user-agent\n",
    "header = {\n",
    "    'User-Agent': 'Mozilla/5.0 (Windows NT 10.0; Win64; x64) AppleWebKit/537.36 (KHTML, like Gecko) Chrome/124.0.0.0 Safari/537.36'\n",
    "    }\n",
    "# в params надо указать интересующую нас дату в формате YYYY:MM:DD\n",
    "# param = {\n",
    "#     'year': '2024',\n",
    "#     'month': '05',\n",
    "#     'day': '7'\n",
    "# }\n",
    "\n",
    "session = requests.Session()"
   ]
  },
  {
   "cell_type": "code",
   "execution_count": 4,
   "metadata": {},
   "outputs": [],
   "source": [
    "\n",
    "date = input('Введите дату в формате DD:MM:YYYY ')\n",
    "day, month, year = date.split('.')\n",
    "params = {\n",
    "    'year': year,\n",
    "    'month': month,\n",
    "    'day': day\n",
    "}"
   ]
  },
  {
   "cell_type": "code",
   "execution_count": 5,
   "metadata": {},
   "outputs": [
    {
     "name": "stdout",
     "output_type": "stream",
     "text": [
      "200\n"
     ]
    }
   ],
   "source": [
    "response = session.get(url+url_tour, params=params, headers=header)\n",
    "# проверяем статус-код\n",
    "if response.status_code < 400:\n",
    "    # если да, печатаем статус код и представляем ответ в виде дерева html\n",
    "    print(response.status_code)\n",
    "    tree = html.fromstring(response.text)\n",
    "else:\n",
    "    print('Что-то пошло не так')"
   ]
  }
 ],
 "metadata": {
  "kernelspec": {
   "display_name": "Python 3",
   "language": "python",
   "name": "python3"
  },
  "language_info": {
   "codemirror_mode": {
    "name": "ipython",
    "version": 3
   },
   "file_extension": ".py",
   "mimetype": "text/x-python",
   "name": "python",
   "nbconvert_exporter": "python",
   "pygments_lexer": "ipython3",
   "version": "3.10.9"
  }
 },
 "nbformat": 4,
 "nbformat_minor": 2
}
